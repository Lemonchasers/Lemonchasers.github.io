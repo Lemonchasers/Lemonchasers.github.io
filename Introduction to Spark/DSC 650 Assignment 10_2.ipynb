{
 "cells": [
  {
   "cell_type": "markdown",
   "metadata": {},
   "source": [
    "# DSC 650: Assignment 10.2\n",
    "### Chase Lemons\n",
    "\n",
    "###### Build a Classification Model\n",
    "\n",
    "In this exercise, you will fit a binary logistic regression model to the baby name dataset you used in the previous exercise. This model will predict the sex of a person based on their age, name, and state they were born in. To train the model, you will use the data found in baby-names/names-classifier."
   ]
  },
  {
   "cell_type": "code",
   "execution_count": 17,
   "metadata": {},
   "outputs": [],
   "source": [
    "from pyspark.conf import SparkConf\n",
    "from pyspark import SparkContext\n",
    "from pyspark.streaming import StreamingContext\n",
    "from pyspark.sql import SparkSession\n",
    "\n",
    "from pyspark.ml.feature import StringIndexer\n",
    "from pyspark.ml.feature import OneHotEncoderEstimator\n",
    "from pyspark.ml.linalg import Vectors\n",
    "from pyspark.ml.feature import VectorAssembler\n",
    "\n"
   ]
  },
  {
   "cell_type": "markdown",
   "metadata": {},
   "source": [
    "###### Prepare in Input Features\n",
    "\n",
    "First, you will need to prepare each of the input features. While age is a numeric feature, state and name are not. These need to be converted into numeric vectors before you can train the model. Use a StringIndexer along with the OneHotEncoderEstimator to convert the name, state, and sex columns into numeric vectors. Use the VectorAssembler to combine the name, state, and age vectors into a single features vector. Your final dataset should contain a column called features containing the prepared vector and a column called label containing the sex of the person."
   ]
  },
  {
   "cell_type": "code",
   "execution_count": 9,
   "metadata": {
    "scrolled": true
   },
   "outputs": [
    {
     "name": "stdout",
     "output_type": "stream",
     "text": [
      "root\n",
      " |-- name: string (nullable = true)\n",
      " |-- state: string (nullable = true)\n",
      " |-- sex: string (nullable = true)\n",
      " |-- age: integer (nullable = true)\n",
      "\n"
     ]
    }
   ],
   "source": [
    "# Reading in all of the files\n",
    "\n",
    "file_location = \"names_classifier/*.parquet\"\n",
    "file_type = \"parquet\"\n",
    "\n",
    "spark = SparkSession.builder.appName(\"week10\").getOrCreate()\n",
    "\n",
    "infer_schema = \"false\"\n",
    "first_row_is_header = \"true\"\n",
    "\n",
    "df = spark.read.format(file_type) \\\n",
    "  .option(\"inferSchema\", infer_schema) \\\n",
    "  .option(\"header\", first_row_is_header) \\\n",
    "  .load(file_location)\n",
    "\n",
    "df.printSchema()"
   ]
  },
  {
   "cell_type": "code",
   "execution_count": 14,
   "metadata": {},
   "outputs": [
    {
     "name": "stdout",
     "output_type": "stream",
     "text": [
      "+------+-----+---+---+---------+----------+-----+\n",
      "|  name|state|sex|age|nameIndex|stateIndex|label|\n",
      "+------+-----+---+---+---------+----------+-----+\n",
      "|Joseph|   PA|  M| 26|      8.0|       3.0|  0.0|\n",
      "|Joseph|   PA|  M| 26|      8.0|       3.0|  0.0|\n",
      "|Joseph|   PA|  M| 26|      8.0|       3.0|  0.0|\n",
      "|Joseph|   PA|  M| 26|      8.0|       3.0|  0.0|\n",
      "|Joseph|   PA|  M| 26|      8.0|       3.0|  0.0|\n",
      "|Joseph|   PA|  M| 26|      8.0|       3.0|  0.0|\n",
      "|Joseph|   PA|  M| 26|      8.0|       3.0|  0.0|\n",
      "|Joseph|   PA|  M| 26|      8.0|       3.0|  0.0|\n",
      "|Joseph|   PA|  M| 26|      8.0|       3.0|  0.0|\n",
      "|Joseph|   PA|  M| 26|      8.0|       3.0|  0.0|\n",
      "|Joseph|   PA|  M| 26|      8.0|       3.0|  0.0|\n",
      "|Joseph|   PA|  M| 26|      8.0|       3.0|  0.0|\n",
      "|Joseph|   PA|  M| 26|      8.0|       3.0|  0.0|\n",
      "|Joseph|   PA|  M| 26|      8.0|       3.0|  0.0|\n",
      "|Joseph|   PA|  M| 26|      8.0|       3.0|  0.0|\n",
      "|Joseph|   PA|  M| 26|      8.0|       3.0|  0.0|\n",
      "|Joseph|   PA|  M| 26|      8.0|       3.0|  0.0|\n",
      "|Joseph|   PA|  M| 26|      8.0|       3.0|  0.0|\n",
      "|Joseph|   PA|  M| 26|      8.0|       3.0|  0.0|\n",
      "|Joseph|   PA|  M| 26|      8.0|       3.0|  0.0|\n",
      "+------+-----+---+---+---------+----------+-----+\n",
      "only showing top 20 rows\n",
      "\n"
     ]
    }
   ],
   "source": [
    "# Using StringIndexer to change the string fields to numeric\n",
    "\n",
    "indexer = StringIndexer(inputCol=\"name\", outputCol=\"nameIndex\")\n",
    "df1 = indexer.fit(df).transform(df)\n",
    "\n",
    "indexer = StringIndexer(inputCol=\"state\", outputCol=\"stateIndex\")\n",
    "df1 = indexer.fit(df1).transform(df1)\n",
    "\n",
    "indexer = StringIndexer(inputCol=\"sex\", outputCol=\"label\")\n",
    "df1 = indexer.fit(df1).transform(df1)\n",
    "\n",
    "df1.show()"
   ]
  },
  {
   "cell_type": "code",
   "execution_count": 15,
   "metadata": {},
   "outputs": [
    {
     "name": "stdout",
     "output_type": "stream",
     "text": [
      "+------+-----+---+---+---------+----------+-----+-----------------+--------------+-------------+\n",
      "|  name|state|sex|age|nameIndex|stateIndex|label|          nameVec|      stateVec|       sexVec|\n",
      "+------+-----+---+---+---------+----------+-----+-----------------+--------------+-------------+\n",
      "|Joseph|   PA|  M| 26|      8.0|       3.0|  0.0|(31313,[8],[1.0])|(50,[3],[1.0])|(1,[0],[1.0])|\n",
      "|Joseph|   PA|  M| 26|      8.0|       3.0|  0.0|(31313,[8],[1.0])|(50,[3],[1.0])|(1,[0],[1.0])|\n",
      "|Joseph|   PA|  M| 26|      8.0|       3.0|  0.0|(31313,[8],[1.0])|(50,[3],[1.0])|(1,[0],[1.0])|\n",
      "|Joseph|   PA|  M| 26|      8.0|       3.0|  0.0|(31313,[8],[1.0])|(50,[3],[1.0])|(1,[0],[1.0])|\n",
      "|Joseph|   PA|  M| 26|      8.0|       3.0|  0.0|(31313,[8],[1.0])|(50,[3],[1.0])|(1,[0],[1.0])|\n",
      "|Joseph|   PA|  M| 26|      8.0|       3.0|  0.0|(31313,[8],[1.0])|(50,[3],[1.0])|(1,[0],[1.0])|\n",
      "|Joseph|   PA|  M| 26|      8.0|       3.0|  0.0|(31313,[8],[1.0])|(50,[3],[1.0])|(1,[0],[1.0])|\n",
      "|Joseph|   PA|  M| 26|      8.0|       3.0|  0.0|(31313,[8],[1.0])|(50,[3],[1.0])|(1,[0],[1.0])|\n",
      "|Joseph|   PA|  M| 26|      8.0|       3.0|  0.0|(31313,[8],[1.0])|(50,[3],[1.0])|(1,[0],[1.0])|\n",
      "|Joseph|   PA|  M| 26|      8.0|       3.0|  0.0|(31313,[8],[1.0])|(50,[3],[1.0])|(1,[0],[1.0])|\n",
      "|Joseph|   PA|  M| 26|      8.0|       3.0|  0.0|(31313,[8],[1.0])|(50,[3],[1.0])|(1,[0],[1.0])|\n",
      "|Joseph|   PA|  M| 26|      8.0|       3.0|  0.0|(31313,[8],[1.0])|(50,[3],[1.0])|(1,[0],[1.0])|\n",
      "|Joseph|   PA|  M| 26|      8.0|       3.0|  0.0|(31313,[8],[1.0])|(50,[3],[1.0])|(1,[0],[1.0])|\n",
      "|Joseph|   PA|  M| 26|      8.0|       3.0|  0.0|(31313,[8],[1.0])|(50,[3],[1.0])|(1,[0],[1.0])|\n",
      "|Joseph|   PA|  M| 26|      8.0|       3.0|  0.0|(31313,[8],[1.0])|(50,[3],[1.0])|(1,[0],[1.0])|\n",
      "|Joseph|   PA|  M| 26|      8.0|       3.0|  0.0|(31313,[8],[1.0])|(50,[3],[1.0])|(1,[0],[1.0])|\n",
      "|Joseph|   PA|  M| 26|      8.0|       3.0|  0.0|(31313,[8],[1.0])|(50,[3],[1.0])|(1,[0],[1.0])|\n",
      "|Joseph|   PA|  M| 26|      8.0|       3.0|  0.0|(31313,[8],[1.0])|(50,[3],[1.0])|(1,[0],[1.0])|\n",
      "|Joseph|   PA|  M| 26|      8.0|       3.0|  0.0|(31313,[8],[1.0])|(50,[3],[1.0])|(1,[0],[1.0])|\n",
      "|Joseph|   PA|  M| 26|      8.0|       3.0|  0.0|(31313,[8],[1.0])|(50,[3],[1.0])|(1,[0],[1.0])|\n",
      "+------+-----+---+---+---------+----------+-----+-----------------+--------------+-------------+\n",
      "only showing top 20 rows\n",
      "\n"
     ]
    }
   ],
   "source": [
    "# Using OneHotEncoderEstimator to turn the numeric fields we created in the previous cell to vecotrs.\n",
    "\n",
    "encoder = OneHotEncoderEstimator(inputCols=[\"nameIndex\", \"stateIndex\",\"label\"],outputCols=[\"nameVec\", \"stateVec\",\"sexVec\"])\n",
    "model = encoder.fit(df1)\n",
    "encoded = model.transform(df1)\n",
    "\n",
    "encoded.show()"
   ]
  },
  {
   "cell_type": "code",
   "execution_count": 16,
   "metadata": {},
   "outputs": [
    {
     "name": "stdout",
     "output_type": "stream",
     "text": [
      "+--------------------+-----+\n",
      "|            features|label|\n",
      "+--------------------+-----+\n",
      "|(31364,[8,31316,3...|  0.0|\n",
      "|(31364,[8,31316,3...|  0.0|\n",
      "|(31364,[8,31316,3...|  0.0|\n",
      "|(31364,[8,31316,3...|  0.0|\n",
      "|(31364,[8,31316,3...|  0.0|\n",
      "|(31364,[8,31316,3...|  0.0|\n",
      "|(31364,[8,31316,3...|  0.0|\n",
      "|(31364,[8,31316,3...|  0.0|\n",
      "|(31364,[8,31316,3...|  0.0|\n",
      "|(31364,[8,31316,3...|  0.0|\n",
      "|(31364,[8,31316,3...|  0.0|\n",
      "|(31364,[8,31316,3...|  0.0|\n",
      "|(31364,[8,31316,3...|  0.0|\n",
      "|(31364,[8,31316,3...|  0.0|\n",
      "|(31364,[8,31316,3...|  0.0|\n",
      "|(31364,[8,31316,3...|  0.0|\n",
      "|(31364,[8,31316,3...|  0.0|\n",
      "|(31364,[8,31316,3...|  0.0|\n",
      "|(31364,[8,31316,3...|  0.0|\n",
      "|(31364,[8,31316,3...|  0.0|\n",
      "+--------------------+-----+\n",
      "only showing top 20 rows\n",
      "\n"
     ]
    }
   ],
   "source": [
    "# Combining the individual numeric vectors into a features column and the sex numeric column into a label column.\n",
    "assembler = VectorAssembler(inputCols=[\"nameVec\", \"stateVec\",\"age\"],outputCol=\"features\")\n",
    "\n",
    "output = assembler.transform(encoded)\n",
    "\n",
    "df_input_features = output.select(\"features\", \"label\")\n",
    "df_input_features.show()"
   ]
  },
  {
   "cell_type": "markdown",
   "metadata": {},
   "source": [
    "###### Fit and Evaluate the Model\n",
    "\n",
    "Fit the model as a logistic regression model with the following parameters. LogisticRegression(maxIter=10, regParam=0.3, elasticNetParam=0.8). Provide the area under the ROC curve for the model."
   ]
  },
  {
   "cell_type": "code",
   "execution_count": 18,
   "metadata": {},
   "outputs": [
    {
     "name": "stdout",
     "output_type": "stream",
     "text": [
      "0.5\n"
     ]
    }
   ],
   "source": [
    "from pyspark.ml.classification import LogisticRegression\n",
    "\n",
    "lr = LogisticRegression(featuresCol = 'features', labelCol = 'label', maxIter=10, regParam=0.3, elasticNetParam=0.8)\n",
    "lrModel = lr.fit(df_input_features)\n",
    "\n",
    "print(lrModel.summary.areaUnderROC)\n",
    "\n"
   ]
  }
 ],
 "metadata": {
  "kernelspec": {
   "display_name": "Python 3",
   "language": "python",
   "name": "python3"
  },
  "language_info": {
   "codemirror_mode": {
    "name": "ipython",
    "version": 3
   },
   "file_extension": ".py",
   "mimetype": "text/x-python",
   "name": "python",
   "nbconvert_exporter": "python",
   "pygments_lexer": "ipython3",
   "version": "3.7.1"
  }
 },
 "nbformat": 4,
 "nbformat_minor": 2
}
